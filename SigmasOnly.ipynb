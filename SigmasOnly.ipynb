{
  "nbformat": 4,
  "nbformat_minor": 0,
  "metadata": {
    "colab": {
      "provenance": []
    },
    "kernelspec": {
      "name": "python3",
      "display_name": "Python 3"
    },
    "language_info": {
      "name": "python"
    }
  },
  "cells": [
    {
      "cell_type": "markdown",
      "source": [
        "# Prerequisites (Step 1)"
      ],
      "metadata": {
        "id": "L_Z4CtA4tH5o"
      }
    },
    {
      "cell_type": "code",
      "execution_count": null,
      "metadata": {
        "id": "CVDvEnm2pYe1",
        "collapsed": true
      },
      "outputs": [],
      "source": [
        "!wget https://github.com/cloudflare/cloudflared/releases/latest/download/cloudflared-linux-amd64.deb -O cloudflared.deb\n",
        "!dpkg -i cloudflared.deb\n",
        "################################\n",
        "!wget https://nodejs.org/dist/v21.6.2/node-v21.6.2-linux-x64.tar.xz\n",
        "!tar xf node-v21.6.2-linux-x64.tar.xz\n",
        "!cp -rf /content/node-v21.6.2-linux-x64/* /usr #malaysian method\n",
        "################################\n",
        "!git clone https://github.com/sigmafortnite/Interstellar.git\n",
        "!cd /content/Interstellar && npm i"
      ]
    },
    {
      "cell_type": "markdown",
      "source": [
        "# Server (Step 2)"
      ],
      "metadata": {
        "id": "uG-rJ00ptVXE"
      }
    },
    {
      "cell_type": "code",
      "source": [
        "!cd /content/Interstellar && PORT=6969 npm run start & cloudflared tunnel --url http://localhost:6969"
      ],
      "metadata": {
        "id": "QVnWgTzItZPf",
        "collapsed": true
      },
      "execution_count": null,
      "outputs": []
    },
    {
      "cell_type": "markdown",
      "source": [
        "# (DEVELOPMENT ONLY) refresh jithub"
      ],
      "metadata": {
        "id": "vWo5ZPeSw2UJ"
      }
    },
    {
      "cell_type": "code",
      "source": [
        "!cd /content/Interstellar && git pull --force --allow-unrelated-histories && npm i"
      ],
      "metadata": {
        "id": "6w5kNIRbw6bP",
        "collapsed": true
      },
      "execution_count": null,
      "outputs": []
    }
  ]
}